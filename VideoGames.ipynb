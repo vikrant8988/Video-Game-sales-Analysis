{
 "cells": [
  {
   "cell_type": "code",
   "execution_count": 58,
   "id": "a947d9d1-b4a3-4a46-a172-ade7dc99cc09",
   "metadata": {},
   "outputs": [],
   "source": [
    "import pandas as pd"
   ]
  },
  {
   "cell_type": "code",
   "execution_count": 59,
   "id": "9b46b291-a000-4c59-950e-5adf1417664b",
   "metadata": {},
   "outputs": [],
   "source": [
    "video_games = pd.read_csv(\"vgchartz-2024.csv\")"
   ]
  },
  {
   "cell_type": "code",
   "execution_count": 60,
   "id": "833f5e1c-c891-474d-80df-d5225940adb4",
   "metadata": {},
   "outputs": [
    {
     "name": "stdout",
     "output_type": "stream",
     "text": [
      "<class 'pandas.core.frame.DataFrame'>\n",
      "RangeIndex: 64016 entries, 0 to 64015\n",
      "Data columns (total 14 columns):\n",
      " #   Column        Non-Null Count  Dtype  \n",
      "---  ------        --------------  -----  \n",
      " 0   img           64016 non-null  object \n",
      " 1   title         64016 non-null  object \n",
      " 2   console       64016 non-null  object \n",
      " 3   genre         64016 non-null  object \n",
      " 4   publisher     64016 non-null  object \n",
      " 5   developer     63999 non-null  object \n",
      " 6   critic_score  6678 non-null   float64\n",
      " 7   total_sales   18922 non-null  float64\n",
      " 8   na_sales      12637 non-null  float64\n",
      " 9   jp_sales      6726 non-null   float64\n",
      " 10  pal_sales     12824 non-null  float64\n",
      " 11  other_sales   15128 non-null  float64\n",
      " 12  release_date  56965 non-null  object \n",
      " 13  last_update   17879 non-null  object \n",
      "dtypes: float64(6), object(8)\n",
      "memory usage: 6.8+ MB\n"
     ]
    }
   ],
   "source": [
    "video_games.info()"
   ]
  },
  {
   "cell_type": "code",
   "execution_count": 61,
   "id": "e629a826-599b-49bc-8a2e-531631c26ce6",
   "metadata": {},
   "outputs": [
    {
     "data": {
      "text/html": [
       "<div>\n",
       "<style scoped>\n",
       "    .dataframe tbody tr th:only-of-type {\n",
       "        vertical-align: middle;\n",
       "    }\n",
       "\n",
       "    .dataframe tbody tr th {\n",
       "        vertical-align: top;\n",
       "    }\n",
       "\n",
       "    .dataframe thead th {\n",
       "        text-align: right;\n",
       "    }\n",
       "</style>\n",
       "<table border=\"1\" class=\"dataframe\">\n",
       "  <thead>\n",
       "    <tr style=\"text-align: right;\">\n",
       "      <th></th>\n",
       "      <th>img</th>\n",
       "      <th>title</th>\n",
       "      <th>console</th>\n",
       "      <th>genre</th>\n",
       "      <th>publisher</th>\n",
       "      <th>developer</th>\n",
       "      <th>critic_score</th>\n",
       "      <th>total_sales</th>\n",
       "      <th>na_sales</th>\n",
       "      <th>jp_sales</th>\n",
       "      <th>pal_sales</th>\n",
       "      <th>other_sales</th>\n",
       "      <th>release_date</th>\n",
       "      <th>last_update</th>\n",
       "    </tr>\n",
       "  </thead>\n",
       "  <tbody>\n",
       "    <tr>\n",
       "      <th>0</th>\n",
       "      <td>/games/boxart/full_6510540AmericaFrontccc.jpg</td>\n",
       "      <td>Grand Theft Auto V</td>\n",
       "      <td>PS3</td>\n",
       "      <td>Action</td>\n",
       "      <td>Rockstar Games</td>\n",
       "      <td>Rockstar North</td>\n",
       "      <td>9.4</td>\n",
       "      <td>20.32</td>\n",
       "      <td>6.37</td>\n",
       "      <td>0.99</td>\n",
       "      <td>9.85</td>\n",
       "      <td>3.12</td>\n",
       "      <td>2013-09-17</td>\n",
       "      <td>NaN</td>\n",
       "    </tr>\n",
       "    <tr>\n",
       "      <th>1</th>\n",
       "      <td>/games/boxart/full_5563178AmericaFrontccc.jpg</td>\n",
       "      <td>Grand Theft Auto V</td>\n",
       "      <td>PS4</td>\n",
       "      <td>Action</td>\n",
       "      <td>Rockstar Games</td>\n",
       "      <td>Rockstar North</td>\n",
       "      <td>9.7</td>\n",
       "      <td>19.39</td>\n",
       "      <td>6.06</td>\n",
       "      <td>0.60</td>\n",
       "      <td>9.71</td>\n",
       "      <td>3.02</td>\n",
       "      <td>2014-11-18</td>\n",
       "      <td>2018-01-03</td>\n",
       "    </tr>\n",
       "    <tr>\n",
       "      <th>2</th>\n",
       "      <td>/games/boxart/827563ccc.jpg</td>\n",
       "      <td>Grand Theft Auto: Vice City</td>\n",
       "      <td>PS2</td>\n",
       "      <td>Action</td>\n",
       "      <td>Rockstar Games</td>\n",
       "      <td>Rockstar North</td>\n",
       "      <td>9.6</td>\n",
       "      <td>16.15</td>\n",
       "      <td>8.41</td>\n",
       "      <td>0.47</td>\n",
       "      <td>5.49</td>\n",
       "      <td>1.78</td>\n",
       "      <td>2002-10-28</td>\n",
       "      <td>NaN</td>\n",
       "    </tr>\n",
       "    <tr>\n",
       "      <th>3</th>\n",
       "      <td>/games/boxart/full_9218923AmericaFrontccc.jpg</td>\n",
       "      <td>Grand Theft Auto V</td>\n",
       "      <td>X360</td>\n",
       "      <td>Action</td>\n",
       "      <td>Rockstar Games</td>\n",
       "      <td>Rockstar North</td>\n",
       "      <td>NaN</td>\n",
       "      <td>15.86</td>\n",
       "      <td>9.06</td>\n",
       "      <td>0.06</td>\n",
       "      <td>5.33</td>\n",
       "      <td>1.42</td>\n",
       "      <td>2013-09-17</td>\n",
       "      <td>NaN</td>\n",
       "    </tr>\n",
       "    <tr>\n",
       "      <th>4</th>\n",
       "      <td>/games/boxart/full_4990510AmericaFrontccc.jpg</td>\n",
       "      <td>Call of Duty: Black Ops 3</td>\n",
       "      <td>PS4</td>\n",
       "      <td>Shooter</td>\n",
       "      <td>Activision</td>\n",
       "      <td>Treyarch</td>\n",
       "      <td>8.1</td>\n",
       "      <td>15.09</td>\n",
       "      <td>6.18</td>\n",
       "      <td>0.41</td>\n",
       "      <td>6.05</td>\n",
       "      <td>2.44</td>\n",
       "      <td>2015-11-06</td>\n",
       "      <td>2018-01-14</td>\n",
       "    </tr>\n",
       "  </tbody>\n",
       "</table>\n",
       "</div>"
      ],
      "text/plain": [
       "                                             img                        title  \\\n",
       "0  /games/boxart/full_6510540AmericaFrontccc.jpg           Grand Theft Auto V   \n",
       "1  /games/boxart/full_5563178AmericaFrontccc.jpg           Grand Theft Auto V   \n",
       "2                    /games/boxart/827563ccc.jpg  Grand Theft Auto: Vice City   \n",
       "3  /games/boxart/full_9218923AmericaFrontccc.jpg           Grand Theft Auto V   \n",
       "4  /games/boxart/full_4990510AmericaFrontccc.jpg    Call of Duty: Black Ops 3   \n",
       "\n",
       "  console    genre       publisher       developer  critic_score  total_sales  \\\n",
       "0     PS3   Action  Rockstar Games  Rockstar North           9.4        20.32   \n",
       "1     PS4   Action  Rockstar Games  Rockstar North           9.7        19.39   \n",
       "2     PS2   Action  Rockstar Games  Rockstar North           9.6        16.15   \n",
       "3    X360   Action  Rockstar Games  Rockstar North           NaN        15.86   \n",
       "4     PS4  Shooter      Activision        Treyarch           8.1        15.09   \n",
       "\n",
       "   na_sales  jp_sales  pal_sales  other_sales release_date last_update  \n",
       "0      6.37      0.99       9.85         3.12   2013-09-17         NaN  \n",
       "1      6.06      0.60       9.71         3.02   2014-11-18  2018-01-03  \n",
       "2      8.41      0.47       5.49         1.78   2002-10-28         NaN  \n",
       "3      9.06      0.06       5.33         1.42   2013-09-17         NaN  \n",
       "4      6.18      0.41       6.05         2.44   2015-11-06  2018-01-14  "
      ]
     },
     "execution_count": 61,
     "metadata": {},
     "output_type": "execute_result"
    }
   ],
   "source": [
    "video_games.head()"
   ]
  },
  {
   "cell_type": "code",
   "execution_count": 62,
   "id": "6ca5f782-c191-4ac0-a332-3a0ae9832c33",
   "metadata": {},
   "outputs": [
    {
     "name": "stdout",
     "output_type": "stream",
     "text": [
      "<class 'pandas.core.frame.DataFrame'>\n",
      "RangeIndex: 64016 entries, 0 to 64015\n",
      "Data columns (total 14 columns):\n",
      " #   Column        Non-Null Count  Dtype         \n",
      "---  ------        --------------  -----         \n",
      " 0   img           64016 non-null  object        \n",
      " 1   Title         64016 non-null  object        \n",
      " 2   Console       64016 non-null  object        \n",
      " 3   Genre         64016 non-null  object        \n",
      " 4   Publisher     64016 non-null  object        \n",
      " 5   Developer     63999 non-null  object        \n",
      " 6   critic_score  6678 non-null   float64       \n",
      " 7   total_sales   18922 non-null  float64       \n",
      " 8   na_sales      12637 non-null  float64       \n",
      " 9   jp_sales      6726 non-null   float64       \n",
      " 10  pal_sales     12824 non-null  float64       \n",
      " 11  other_sales   15128 non-null  float64       \n",
      " 12  release_date  56965 non-null  datetime64[ns]\n",
      " 13  last_update   17879 non-null  object        \n",
      "dtypes: datetime64[ns](1), float64(6), object(7)\n",
      "memory usage: 6.8+ MB\n"
     ]
    }
   ],
   "source": [
    "video_games = pd.read_csv(\"vgchartz-2024.csv\",parse_dates=[\"release_date\"]).rename({ \n",
    "    \"title\":\"Title\", \n",
    "    \"genre\":\"Genre\",\n",
    "    \"publisher\":\"Publisher\",\n",
    "    \"developer\":\"Developer\" ,\n",
    "    \"console\":\"Console\"\n",
    "    },axis=1)\n",
    "video_games.info()"
   ]
  },
  {
   "cell_type": "code",
   "execution_count": 63,
   "id": "97622c36-12ed-428b-b84c-15e9a71c0524",
   "metadata": {},
   "outputs": [],
   "source": [
    "video_games[\"release_year\"] = video_games['release_date'].dt.year"
   ]
  },
  {
   "cell_type": "code",
   "execution_count": 64,
   "id": "87b9e020-67fa-428f-a75c-719e281958bf",
   "metadata": {},
   "outputs": [
    {
     "data": {
      "text/plain": [
       "0        2013.0\n",
       "1        2014.0\n",
       "2        2002.0\n",
       "3        2013.0\n",
       "4        2015.0\n",
       "          ...  \n",
       "64011    2016.0\n",
       "64012    2020.0\n",
       "64013    2020.0\n",
       "64014    2019.0\n",
       "64015       NaN\n",
       "Name: release_year, Length: 64016, dtype: float64"
      ]
     },
     "execution_count": 64,
     "metadata": {},
     "output_type": "execute_result"
    }
   ],
   "source": [
    "video_games[\"release_year\"]"
   ]
  },
  {
   "cell_type": "code",
   "execution_count": 65,
   "id": "26d88848-c2f8-4fd9-a507-e9bb0b3fb12c",
   "metadata": {},
   "outputs": [
    {
     "data": {
      "text/html": [
       "<div>\n",
       "<style scoped>\n",
       "    .dataframe tbody tr th:only-of-type {\n",
       "        vertical-align: middle;\n",
       "    }\n",
       "\n",
       "    .dataframe tbody tr th {\n",
       "        vertical-align: top;\n",
       "    }\n",
       "\n",
       "    .dataframe thead th {\n",
       "        text-align: right;\n",
       "    }\n",
       "</style>\n",
       "<table border=\"1\" class=\"dataframe\">\n",
       "  <thead>\n",
       "    <tr style=\"text-align: right;\">\n",
       "      <th></th>\n",
       "      <th>critic_score</th>\n",
       "      <th>total_sales</th>\n",
       "      <th>na_sales</th>\n",
       "      <th>jp_sales</th>\n",
       "      <th>pal_sales</th>\n",
       "      <th>other_sales</th>\n",
       "      <th>release_date</th>\n",
       "      <th>release_year</th>\n",
       "    </tr>\n",
       "  </thead>\n",
       "  <tbody>\n",
       "    <tr>\n",
       "      <th>count</th>\n",
       "      <td>6678.000000</td>\n",
       "      <td>18922.000000</td>\n",
       "      <td>12637.000000</td>\n",
       "      <td>6726.000000</td>\n",
       "      <td>12824.000000</td>\n",
       "      <td>15128.000000</td>\n",
       "      <td>56965</td>\n",
       "      <td>56965.000000</td>\n",
       "    </tr>\n",
       "    <tr>\n",
       "      <th>mean</th>\n",
       "      <td>7.220440</td>\n",
       "      <td>0.349113</td>\n",
       "      <td>0.264740</td>\n",
       "      <td>0.102281</td>\n",
       "      <td>0.149472</td>\n",
       "      <td>0.043041</td>\n",
       "      <td>2006-11-14 06:33:03.491617792</td>\n",
       "      <td>2006.359572</td>\n",
       "    </tr>\n",
       "    <tr>\n",
       "      <th>min</th>\n",
       "      <td>1.000000</td>\n",
       "      <td>0.000000</td>\n",
       "      <td>0.000000</td>\n",
       "      <td>0.000000</td>\n",
       "      <td>0.000000</td>\n",
       "      <td>0.000000</td>\n",
       "      <td>1971-12-03 00:00:00</td>\n",
       "      <td>1971.000000</td>\n",
       "    </tr>\n",
       "    <tr>\n",
       "      <th>25%</th>\n",
       "      <td>6.400000</td>\n",
       "      <td>0.030000</td>\n",
       "      <td>0.050000</td>\n",
       "      <td>0.020000</td>\n",
       "      <td>0.010000</td>\n",
       "      <td>0.000000</td>\n",
       "      <td>2001-03-28 00:00:00</td>\n",
       "      <td>2001.000000</td>\n",
       "    </tr>\n",
       "    <tr>\n",
       "      <th>50%</th>\n",
       "      <td>7.500000</td>\n",
       "      <td>0.120000</td>\n",
       "      <td>0.120000</td>\n",
       "      <td>0.040000</td>\n",
       "      <td>0.040000</td>\n",
       "      <td>0.010000</td>\n",
       "      <td>2008-09-16 00:00:00</td>\n",
       "      <td>2008.000000</td>\n",
       "    </tr>\n",
       "    <tr>\n",
       "      <th>75%</th>\n",
       "      <td>8.300000</td>\n",
       "      <td>0.340000</td>\n",
       "      <td>0.280000</td>\n",
       "      <td>0.120000</td>\n",
       "      <td>0.140000</td>\n",
       "      <td>0.030000</td>\n",
       "      <td>2012-12-27 00:00:00</td>\n",
       "      <td>2012.000000</td>\n",
       "    </tr>\n",
       "    <tr>\n",
       "      <th>max</th>\n",
       "      <td>10.000000</td>\n",
       "      <td>20.320000</td>\n",
       "      <td>9.760000</td>\n",
       "      <td>2.130000</td>\n",
       "      <td>9.850000</td>\n",
       "      <td>3.120000</td>\n",
       "      <td>2024-12-31 00:00:00</td>\n",
       "      <td>2024.000000</td>\n",
       "    </tr>\n",
       "    <tr>\n",
       "      <th>std</th>\n",
       "      <td>1.457066</td>\n",
       "      <td>0.807462</td>\n",
       "      <td>0.494787</td>\n",
       "      <td>0.168811</td>\n",
       "      <td>0.392653</td>\n",
       "      <td>0.126643</td>\n",
       "      <td>NaN</td>\n",
       "      <td>8.617813</td>\n",
       "    </tr>\n",
       "  </tbody>\n",
       "</table>\n",
       "</div>"
      ],
      "text/plain": [
       "       critic_score   total_sales      na_sales     jp_sales     pal_sales  \\\n",
       "count   6678.000000  18922.000000  12637.000000  6726.000000  12824.000000   \n",
       "mean       7.220440      0.349113      0.264740     0.102281      0.149472   \n",
       "min        1.000000      0.000000      0.000000     0.000000      0.000000   \n",
       "25%        6.400000      0.030000      0.050000     0.020000      0.010000   \n",
       "50%        7.500000      0.120000      0.120000     0.040000      0.040000   \n",
       "75%        8.300000      0.340000      0.280000     0.120000      0.140000   \n",
       "max       10.000000     20.320000      9.760000     2.130000      9.850000   \n",
       "std        1.457066      0.807462      0.494787     0.168811      0.392653   \n",
       "\n",
       "        other_sales                   release_date  release_year  \n",
       "count  15128.000000                          56965  56965.000000  \n",
       "mean       0.043041  2006-11-14 06:33:03.491617792   2006.359572  \n",
       "min        0.000000            1971-12-03 00:00:00   1971.000000  \n",
       "25%        0.000000            2001-03-28 00:00:00   2001.000000  \n",
       "50%        0.010000            2008-09-16 00:00:00   2008.000000  \n",
       "75%        0.030000            2012-12-27 00:00:00   2012.000000  \n",
       "max        3.120000            2024-12-31 00:00:00   2024.000000  \n",
       "std        0.126643                            NaN      8.617813  "
      ]
     },
     "execution_count": 65,
     "metadata": {},
     "output_type": "execute_result"
    }
   ],
   "source": [
    "video_games.describe()"
   ]
  },
  {
   "cell_type": "code",
   "execution_count": 66,
   "id": "6ffc766e-8f40-450e-8aa2-440d618b6a4e",
   "metadata": {},
   "outputs": [],
   "source": [
    "annual_sales=video_games.groupby(\"release_year\",as_index=False).agg({'total_sales':'sum'})"
   ]
  },
  {
   "cell_type": "code",
   "execution_count": 67,
   "id": "5f255bef-20fd-4163-a92d-0794aadaa30e",
   "metadata": {},
   "outputs": [
    {
     "data": {
      "text/html": [
       "<div>\n",
       "<style scoped>\n",
       "    .dataframe tbody tr th:only-of-type {\n",
       "        vertical-align: middle;\n",
       "    }\n",
       "\n",
       "    .dataframe tbody tr th {\n",
       "        vertical-align: top;\n",
       "    }\n",
       "\n",
       "    .dataframe thead th {\n",
       "        text-align: right;\n",
       "    }\n",
       "</style>\n",
       "<table border=\"1\" class=\"dataframe\">\n",
       "  <thead>\n",
       "    <tr style=\"text-align: right;\">\n",
       "      <th></th>\n",
       "      <th>release_year</th>\n",
       "      <th>total_sales</th>\n",
       "    </tr>\n",
       "  </thead>\n",
       "  <tbody>\n",
       "    <tr>\n",
       "      <th>0</th>\n",
       "      <td>1971.0</td>\n",
       "      <td>0.00</td>\n",
       "    </tr>\n",
       "    <tr>\n",
       "      <th>1</th>\n",
       "      <td>1973.0</td>\n",
       "      <td>0.00</td>\n",
       "    </tr>\n",
       "    <tr>\n",
       "      <th>2</th>\n",
       "      <td>1975.0</td>\n",
       "      <td>0.00</td>\n",
       "    </tr>\n",
       "    <tr>\n",
       "      <th>3</th>\n",
       "      <td>1977.0</td>\n",
       "      <td>2.50</td>\n",
       "    </tr>\n",
       "    <tr>\n",
       "      <th>4</th>\n",
       "      <td>1978.0</td>\n",
       "      <td>2.36</td>\n",
       "    </tr>\n",
       "  </tbody>\n",
       "</table>\n",
       "</div>"
      ],
      "text/plain": [
       "   release_year  total_sales\n",
       "0        1971.0         0.00\n",
       "1        1973.0         0.00\n",
       "2        1975.0         0.00\n",
       "3        1977.0         2.50\n",
       "4        1978.0         2.36"
      ]
     },
     "execution_count": 67,
     "metadata": {},
     "output_type": "execute_result"
    }
   ],
   "source": [
    "annual_sales.head()"
   ]
  },
  {
   "cell_type": "code",
   "execution_count": 68,
   "id": "efc21613-1bf0-478a-a00a-b20f7c0b8bc3",
   "metadata": {},
   "outputs": [],
   "source": [
    "import matplotlib.pyplot as plt"
   ]
  },
  {
   "cell_type": "code",
   "execution_count": 69,
   "id": "b06330f2-0fba-4ef9-ad85-9fbb82f9c17f",
   "metadata": {},
   "outputs": [
    {
     "data": {
      "text/plain": [
       "[<matplotlib.lines.Line2D at 0x2a3d41a5e20>]"
      ]
     },
     "execution_count": 69,
     "metadata": {},
     "output_type": "execute_result"
    },
    {
     "data": {
      "image/png": "[encoded data removed]",
      "text/plain": [
       "<Figure size 640x480 with 1 Axes>"
      ]
     },
     "metadata": {},
     "output_type": "display_data"
    }
   ],
   "source": [
    "plt.plot(annual_sales[\"release_year\"],annual_sales[\"total_sales\"])"
   ]
  },
  {
   "cell_type": "code",
   "execution_count": 70,
   "id": "f13f1691-0f01-4869-a766-410ed359b2fa",
   "metadata": {},
   "outputs": [],
   "source": [
    "top_title = video_games.groupby(\"Title\",as_index=False).agg({\"total_sales\":\"sum\"}).sort_values(\"total_sales\",ascending=False)"
   ]
  },
  {
   "cell_type": "code",
   "execution_count": 71,
   "id": "7bbfd8fb-f4a6-413b-bb4c-333fefc3add6",
   "metadata": {},
   "outputs": [],
   "source": [
    "top10_title = top_title.head(10)"
   ]
  },
  {
   "cell_type": "code",
   "execution_count": 72,
   "id": "49e81f4f-fb6d-4a07-b123-350795dd569c",
   "metadata": {},
   "outputs": [
    {
     "data": {
      "text/plain": [
       "([0, 1, 2, 3, 4, 5, 6, 7, 8, 9],\n",
       " [Text(0, 0, 'Grand Theft Auto V'),\n",
       "  Text(1, 0, 'Call of Duty: Black Ops'),\n",
       "  Text(2, 0, 'Call of Duty: Modern Warfare 3'),\n",
       "  Text(3, 0, 'Call of Duty: Black Ops II'),\n",
       "  Text(4, 0, 'Call of Duty: Ghosts'),\n",
       "  Text(5, 0, 'Call of Duty: Black Ops 3'),\n",
       "  Text(6, 0, 'Call of Duty: Modern Warfare 2'),\n",
       "  Text(7, 0, 'Minecraft'),\n",
       "  Text(8, 0, 'Grand Theft Auto IV'),\n",
       "  Text(9, 0, 'Call of Duty: Advanced Warfare')])"
      ]
     },
     "execution_count": 72,
     "metadata": {},
     "output_type": "execute_result"
    },
    {
     "data": {
      "image/png": "[encoded data removed]",
      "text/plain": [
       "<Figure size 640x480 with 1 Axes>"
      ]
     },
     "metadata": {},
     "output_type": "display_data"
    }
   ],
   "source": [
    "plt.bar(top10_title[\"Title\"],top10_title[\"total_sales\"])\n",
    "plt.xticks(rotation=90)"
   ]
  },
  {
   "cell_type": "code",
   "execution_count": null,
   "id": "e612ab9a-6e94-4bee-b909-ee8d30a461d6",
   "metadata": {},
   "outputs": [],
   "source": []
  },
  {
   "cell_type": "code",
   "execution_count": 73,
   "id": "7a8bdbbf-d055-4c68-891b-71ba03ea8ce0",
   "metadata": {},
   "outputs": [
    {
     "data": {
      "text/plain": [
       "[<matplotlib.lines.Line2D at 0x2a3cc2bc080>]"
      ]
     },
     "execution_count": 73,
     "metadata": {},
     "output_type": "execute_result"
    },
    {
     "data": {
      "image/png": "[encoded data removed]",
      "text/plain": [
       "<Figure size 640x480 with 1 Axes>"
      ]
     },
     "metadata": {},
     "output_type": "display_data"
    }
   ],
   "source": [
    "plt.plot(annual_sales[\"release_year\"],annual_sales[\"total_sales\"])"
   ]
  },
  {
   "cell_type": "code",
   "execution_count": 74,
   "id": "b167f2e0-c029-483e-8f07-e03790898ecb",
   "metadata": {},
   "outputs": [
    {
     "data": {
      "text/plain": [
       "([0, 1, 2, 3, 4, 5, 6, 7, 8, 9],\n",
       " [Text(0, 0, 'Grand Theft Auto V'),\n",
       "  Text(1, 0, 'Call of Duty: Black Ops'),\n",
       "  Text(2, 0, 'Call of Duty: Modern Warfare 3'),\n",
       "  Text(3, 0, 'Call of Duty: Black Ops II'),\n",
       "  Text(4, 0, 'Call of Duty: Ghosts'),\n",
       "  Text(5, 0, 'Call of Duty: Black Ops 3'),\n",
       "  Text(6, 0, 'Call of Duty: Modern Warfare 2'),\n",
       "  Text(7, 0, 'Minecraft'),\n",
       "  Text(8, 0, 'Grand Theft Auto IV'),\n",
       "  Text(9, 0, 'Call of Duty: Advanced Warfare')])"
      ]
     },
     "execution_count": 74,
     "metadata": {},
     "output_type": "execute_result"
    },
    {
     "data": {
      "image/png": "[encoded data removed]",
      "text/plain": [
       "<Figure size 640x480 with 1 Axes>"
      ]
     },
     "metadata": {},
     "output_type": "display_data"
    }
   ],
   "source": [
    "plt.bar(top10_title[\"Title\"],top10_title[\"total_sales\"])\n",
    "plt.xticks(rotation=90)"
   ]
  },
  {
   "cell_type": "code",
   "execution_count": 76,
   "id": "1fe3ad2e-1432-431e-8283-ad06d42ff524",
   "metadata": {},
   "outputs": [
    {
     "data": {
      "text/html": [
       "\n",
       "        <iframe\n",
       "            width=\"100%\"\n",
       "            height=\"650\"\n",
       "            src=\"http://127.0.0.1:8050/\"\n",
       "            frameborder=\"0\"\n",
       "            allowfullscreen\n",
       "            \n",
       "        ></iframe>\n",
       "        "
      ],
      "text/plain": [
       "<IPython.lib.display.IFrame at 0x2a3d40dbec0>"
      ]
     },
     "metadata": {},
     "output_type": "display_data"
    }
   ],
   "source": [
    "from dash import Dash, html, dcc, callback, Output, Input\n",
    "from dash_bootstrap_templates import load_figure_template\n",
    "import dash_bootstrap_components as dbc\n",
    "\n",
    "import plotly.express as px\n",
    "import pandas as pd\n",
    "import numpy as np\n",
    "\n",
    "video_games = pd.read_csv(\"vgchartz-2024.csv\")\n",
    "video_games = pd.read_csv(\"vgchartz-2024.csv\",parse_dates=[\"release_date\"]).rename({ \n",
    "    \"title\":\"Title\", \n",
    "    \"genre\":\"Genre\",\n",
    "    \"publisher\":\"Publisher\",\n",
    "    \"developer\":\"Developer\" ,\n",
    "    \"console\":\"Console\"\n",
    "    },axis=1)\n",
    "video_games[\"release_year\"] = video_games['release_date'].dt.year\n",
    "\n",
    "app = Dash(__name__)\n",
    "\n",
    "app.layout = dbc.Container([\n",
    "    html.H1(\"Video Game Explorer\",style={\"text-align\":\"center\"}),\n",
    "    dbc.Row([\n",
    "        dbc.Col([\n",
    "            dbc.Card([\n",
    "                dcc.Markdown(\"**Select A Category**\"),\n",
    "                dcc.Dropdown(\n",
    "                    id=\"category-dropdown\",\n",
    "                    options=[\"Title\",\"Genre\",\"Publisher\",\"Developer\",\"Console\"],value=\"Title\",className=\"dbc\"\n",
    "                )\n",
    "            ])\n",
    "        ]),\n",
    "        dbc.Col([\n",
    "            dbc.Card([\n",
    "                dcc.Markdown(\"**Select A Region**\"),\n",
    "                dcc.RadioItems(\n",
    "                    id=\"region-radio\",\n",
    "                    options={\n",
    "                        \"total_sales\":\"World Total\",\n",
    "                        \"na_sales\":\"North America\",\n",
    "                        \"jp_sales\":\"Japan\",\n",
    "                        \"pal_sales\":\"Europe/Africa\",\n",
    "                        \"other_sales\":\"Rest of World\"\n",
    "                    },value=\"total_sales\",className=\"dbc\"\n",
    "                )\n",
    "            ])\n",
    "        ]) \n",
    "    ]),\n",
    "    dbc.Row(dcc.Graph(id=\"sales_line\")),\n",
    "    dbc.Row(dcc.Graph(id=\"rankings_bar\"))\n",
    "])\n",
    "\n",
    "@app.callback(\n",
    "    Output(\"sales_line\",\"figure\"),\n",
    "    Output(\"rankings_bar\",\"figure\"),\n",
    "    Input(\"category-dropdown\",\"value\"),\n",
    "    Input(\"region-radio\",\"value\")\n",
    ")\n",
    "\n",
    "def vg_plotter(category,region):\n",
    "    annual_sales=video_games.groupby(\"release_year\",as_index=False).agg({region:'sum'})\n",
    "    fig1 = px.line(\n",
    "        annual_sales,\n",
    "        x=\"release_year\",\n",
    "        y=region,\n",
    "        title=f\"Video Game Sales in {region} Over Time\"\n",
    "    ).update_layout(title_x=0.5)\n",
    "\n",
    "    top10_title = (\n",
    "        video_games\n",
    "        .groupby(\"Title\",as_index=False)\n",
    "        .agg({\"total_sales\":\"sum\"})\n",
    "        .sort_values(\"total_sales\",ascending=False)\n",
    "        .head(10)\n",
    "    )\n",
    "\n",
    "    fig2 = px.bar(\n",
    "        top10_title,\n",
    "        x=category,\n",
    "        y=region,\n",
    "        title=\"Top 10 Video Game Sales by Category\"\n",
    "    ).update_layout(title_x=0.5)\n",
    "\n",
    "    return fig1,fig2\n",
    "    \n",
    "\n",
    "if __name__ == '__main__':\n",
    "    app.run_server()"
   ]
  },
  {
   "cell_type": "code",
   "execution_count": null,
   "id": "fb45376b-44e8-491d-9014-a130c716f36c",
   "metadata": {},
   "outputs": [],
   "source": []
  }
 ],
 "metadata": {
  "kernelspec": {
   "display_name": "Python 3 (ipykernel)",
   "language": "python",
   "name": "python3"
  },
  "language_info": {
   "codemirror_mode": {
    "name": "ipython",
    "version": 3
   },
   "file_extension": ".py",
   "mimetype": "text/x-python",
   "name": "python",
   "nbconvert_exporter": "python",
   "pygments_lexer": "ipython3",
   "version": "3.12.6"
  }
 },
 "nbformat": 4,
 "nbformat_minor": 5
}
